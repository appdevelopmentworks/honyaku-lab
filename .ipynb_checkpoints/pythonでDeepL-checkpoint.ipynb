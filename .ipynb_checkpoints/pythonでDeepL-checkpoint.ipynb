{
 "cells": [
  {
   "cell_type": "markdown",
   "id": "66c9dfb5-42d7-477c-b9fc-3773d8a0712b",
   "metadata": {},
   "source": [
    "# DeepLのAPIの使い方\n",
    "\n",
    "### WebのAPIを使う"
   ]
  },
  {
   "cell_type": "code",
   "execution_count": 2,
   "id": "37614e40-8457-4bf5-a328-de50f19bcea2",
   "metadata": {},
   "outputs": [
    {
     "name": "stdout",
     "output_type": "stream",
     "text": [
      "{'translations': [{'detected_source_language': 'EN', 'text': '居酒屋かわさき」の看板メニューはだし巻き卵。'}]}\n"
     ]
    }
   ],
   "source": [
    "import os\n",
    "import requests\n",
    "\n",
    "API_KEY = os.environ[\"DEEPL_API_KEY\"]\n",
    "\n",
    "text = \"Izakaya Kawasaki's signature menu is dashimaki tamago.\"\n",
    "source_lang = 'EN'\n",
    "target_lang = 'JA'\n",
    "\n",
    "# パラメータの指定\n",
    "params = {\n",
    "            'auth_key' : API_KEY,\n",
    "            'text' : text,\n",
    "            'source_lang' : source_lang, # 翻訳対象の言語\n",
    "            \"target_lang\": target_lang  # 翻訳後の言語\n",
    "        }\n",
    "\n",
    "# リクエストを投げる\n",
    "request = requests.post(\"https://api-free.deepl.com/v2/translate\", data=params) # URIは有償版, 無償版で異なるため要注意\n",
    "result = request.json()\n",
    "\n",
    "print(result)\n"
   ]
  },
  {
   "cell_type": "code",
   "execution_count": 3,
   "id": "21c9658c-21a9-4cc3-890a-e86ceb100afc",
   "metadata": {},
   "outputs": [
    {
     "name": "stdout",
     "output_type": "stream",
     "text": [
      "{'translations': [{'detected_source_language': 'JA', 'text': 'Izakaya Kawasaki is located in Hitachinaka City.'}, {'detected_source_language': 'JA', 'text': 'Sashimi and dashimaki tamago (rolled egg) are the signature dishes.'}]}\n"
     ]
    }
   ],
   "source": [
    "text = [\"居酒屋川崎は、ひたちなか市にある。\", \"刺身と、だし巻き卵が看板メニュー。\"]\n",
    "source_lang = 'JA'\n",
    "target_lang = 'EN'\n",
    "\n",
    "# パラメータの指定\n",
    "params = {\n",
    "            'auth_key' : API_KEY,\n",
    "            'text' : text,\n",
    "            'source_lang' : source_lang, # 翻訳対象の言語\n",
    "            \"target_lang\": target_lang  # 翻訳後の言語\n",
    "        }\n",
    "\n",
    "# リクエストを投げる\n",
    "request = requests.post(\"https://api-free.deepl.com/v2/translate\", data=params) # URIは有償版, 無償版で異なるため要注意\n",
    "result = request.json()\n",
    "\n",
    "print(result)"
   ]
  },
  {
   "cell_type": "code",
   "execution_count": 4,
   "id": "834d2ba4-8f6d-43a5-9293-b322d30d8bdf",
   "metadata": {},
   "outputs": [
    {
     "name": "stdout",
     "output_type": "stream",
     "text": [
      "Izakaya Kawasaki is located in Hitachinaka City.\n",
      "Sashimi and dashimaki tamago (rolled egg) are the signature dishes.\n"
     ]
    }
   ],
   "source": [
    "print(result['translations'][0]['text'])\n",
    "print(result['translations'][1]['text'])"
   ]
  },
  {
   "cell_type": "markdown",
   "id": "84f5f3fa-0cc7-4658-9927-4bceb067abd2",
   "metadata": {},
   "source": [
    "## DeepLクライアントを使う\n",
    "### deeplをインストール"
   ]
  },
  {
   "cell_type": "code",
   "execution_count": 14,
   "id": "28d938c1-9317-4725-a089-74f69250df67",
   "metadata": {},
   "outputs": [
    {
     "name": "stdout",
     "output_type": "stream",
     "text": [
      "Collecting deepl\n",
      "  Downloading deepl-1.18.0-py3-none-any.whl.metadata (27 kB)\n",
      "Requirement already satisfied: requests<3,>=2 in c:\\users\\hartm\\anaconda3\\lib\\site-packages (from deepl) (2.31.0)\n",
      "Requirement already satisfied: charset-normalizer<4,>=2 in c:\\users\\hartm\\anaconda3\\lib\\site-packages (from requests<3,>=2->deepl) (2.0.4)\n",
      "Requirement already satisfied: idna<4,>=2.5 in c:\\users\\hartm\\anaconda3\\lib\\site-packages (from requests<3,>=2->deepl) (3.4)\n",
      "Requirement already satisfied: urllib3<3,>=1.21.1 in c:\\users\\hartm\\anaconda3\\lib\\site-packages (from requests<3,>=2->deepl) (2.0.7)\n",
      "Requirement already satisfied: certifi>=2017.4.17 in c:\\users\\hartm\\anaconda3\\lib\\site-packages (from requests<3,>=2->deepl) (2024.2.2)\n",
      "Downloading deepl-1.18.0-py3-none-any.whl (35 kB)\n",
      "Installing collected packages: deepl\n",
      "Successfully installed deepl-1.18.0\n"
     ]
    }
   ],
   "source": [
    "!pip install deepl"
   ]
  },
  {
   "cell_type": "code",
   "execution_count": 2,
   "id": "05994dbd-4e8f-4436-918c-ac0bc2bac047",
   "metadata": {},
   "outputs": [
    {
     "name": "stdout",
     "output_type": "stream",
     "text": [
      "ルールがあれば、その心は決まる。\n"
     ]
    }
   ],
   "source": [
    "import deepl\n",
    "\n",
    "text = \"If there is a rule, the heart will be determined, I'm tired of fighting.\"\n",
    "source_lang = 'EN'\n",
    "target_lang = 'JA'\n",
    "\n",
    "# イニシャライズ\n",
    "translator = deepl.Translator(os.environ['DEEPL_API_KEY'])\n",
    "\n",
    "# 翻訳を実行\n",
    "result = translator.translate_text(text, source_lang=source_lang, target_lang=target_lang)\n",
    "\n",
    "# print すると翻訳後の文章が出力される\n",
    "print(result)\n"
   ]
  },
  {
   "cell_type": "code",
   "execution_count": 1,
   "id": "45c26f0a-6dae-4c3a-a99a-5d35545baeeb",
   "metadata": {},
   "outputs": [
    {
     "name": "stdout",
     "output_type": "stream",
     "text": [
      "[<deepl.api_data.TextResult object at 0x000001EB9997CC10>, <deepl.api_data.TextResult object at 0x000001EBA1E8F1D0>]\n",
      "------------------------------\n",
      "Communication is important.\n",
      "Many adverse effects due to poor communication have been reported, especially in recent years when teleworking has become mainstream.\n"
     ]
    }
   ],
   "source": [
    "import deepl\n",
    "import os\n",
    "\n",
    "text = ['コミュニケーションをとることは重要である。', '特にテレワークが主流となった昨今においては、コミュニケーション不足による弊害が多く報告されている。']\n",
    "source_lang = 'JA'\n",
    "target_lang = 'EN-GB'\n",
    "\n",
    "# イニシャライズ\n",
    "translator = deepl.Translator(os.environ['DEEPL_API_KEY'])\n",
    "\n",
    "# 翻訳を実行\n",
    "results = translator.translate_text(text, source_lang=source_lang, target_lang=target_lang)\n",
    "\n",
    "# results の中身はオブジェクトのリスト\n",
    "print(results)\n",
    "\n",
    "print('-'*30)\n",
    "\n",
    "for result in results :\n",
    "    # print すると翻訳後の文章が出力される\n",
    "    print(result)\n",
    "    # 翻訳後の文章にアクセスする場合は .text で可能\n",
    "    # print(result.text)\n"
   ]
  },
  {
   "cell_type": "code",
   "execution_count": null,
   "id": "47089ab8-0cc2-4f97-a1f1-a1d8f8c02d44",
   "metadata": {},
   "outputs": [],
   "source": []
  }
 ],
 "metadata": {
  "kernelspec": {
   "display_name": "Python 3 (ipykernel)",
   "language": "python",
   "name": "python3"
  },
  "language_info": {
   "codemirror_mode": {
    "name": "ipython",
    "version": 3
   },
   "file_extension": ".py",
   "mimetype": "text/x-python",
   "name": "python",
   "nbconvert_exporter": "python",
   "pygments_lexer": "ipython3",
   "version": "3.11.7"
  }
 },
 "nbformat": 4,
 "nbformat_minor": 5
}
