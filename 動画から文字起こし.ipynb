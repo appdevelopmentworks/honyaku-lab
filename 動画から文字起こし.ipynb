{
 "cells": [
  {
   "cell_type": "markdown",
   "id": "7081223f-8bba-429d-a917-97de627903e9",
   "metadata": {},
   "source": [
    "# 動画から文字起こし"
   ]
  },
  {
   "cell_type": "markdown",
   "id": "f45fca00-d872-4b47-b13a-77cb92f59454",
   "metadata": {},
   "source": [
    "1.Youtubeから文字起こししたい動画を選択\n",
    "\n",
    "2.以下のページで音声ファイルのみ抽出\n",
    "\n",
    "https://ytmp3.cc/3kRz/"
   ]
  },
  {
   "cell_type": "code",
   "execution_count": 1,
   "id": "fc673721-34be-4753-8aff-d8dcea6c8c24",
   "metadata": {},
   "outputs": [
    {
     "name": "stdout",
     "output_type": "stream",
     "text": [
      "So how would you advise us to prepare and and I guess what would you tell our generation we feel scarred from the crisis? Yeah first of all, I think One of the problems is that the experience that you had as the last experience is the one that's going to stick in your mind And probably will not be the one that's going to get you so that the next experience will be very very different I know my my parents went through the Great Depression and then they missed out on the boom Because then they're always thinking about that And so I think I think that what they need to do is see all of those crises That's why you can see inflationary ones and see all of those and once you get that perspective I would say three things to your generation. Okay, three recommendations The first recommendation is to is to think about your savings and how much money do you have for savings and the best way to Think about that is to think how much money do I spend each month and how much money do I have saved? so that I can how many months am I going to be okay without that and to value savings right and Calculate it because savings in that is freedom and security and think about what that is So that's that's the first what how much do I have for that? The second thing is how do I? Save well, what should I put my saving in and when thinking about what you should put your saving in? Realize that the least risk investment that you think from volatility is the least risk investment which is cash is the worst investment over a period of time and You could judge that by judging the rate of inflation in relationship to the after-tax income you're going to earn So if you have an inflation rate That's two or three percent and you're earning one percent and you have to pay taxes on that one percent or the one or two Percent that you're going to get you're going to get taxed Essentially at two percent a year and that's going to be a problem. So you have to move into assets that are Other assets that are going to do better over a period of time and When you do that, the most important thing I can convey to you is to diversify Well, because I can guarantee you that one of those assets and you won't be able to pick the right one Will be disastrous in your lifetime that you will lose half of that savings if you're in the wrong one And you won't know what the right one is and so pick different countries pick different Asset classes and I could probably take too long explaining how you might do that But but so that would be the the second thing to learn First thing is think about how to save be cautious about debt when you're thinking about debt Think about is that debt going to help my savings or is it going to produce an income? Sometimes debt like buying a house or buying an apartment or buying an asset it produces forced savings Forced savings is a good thing or if you're taking on debt and you're thinking am I going to have that debt in an asset? That asset better produce more income than the asset than the cost of your debt If you're using debt for consumption, that's not a good thing to do. Okay, you're giving up that that safety So I want so number one is Think about how much you save and think about whether that should be it and what how you borrow number two Make sure that you think about the diversification of that not in cash and number three Do the opposite of what your instincts are if you're going to play the game? It has to be the opposite of what your instincts in the crowd says because the market reflects the crowd. So You want to buy when no one wants to buy and you want to sell when no one wants to sell, right? So and that's emotionally difficult And probably you're not going to play that game Well, because it takes a lot of resources to play the good I'm we spend hundreds of millions of dollars each year to try to play that game Well, and it's a tough game to play. Well, so I would caution you about the market timing game But I would say that if you're going to do it do it in the ways that are uncomfortable because they're opposite your instincts\n",
      "\n"
     ]
    }
   ],
   "source": [
    "from openai import OpenAI\n",
    "\n",
    "#OpenAIのインスタンスを作る場合\n",
    "client = OpenAI()\n",
    "\n",
    "audio_file= open(\"RayDalio.mp3\", \"rb\")\n",
    "#出力をテキストで\n",
    "transcript = client.audio.transcriptions.create(\n",
    "    model=\"whisper-1\",\n",
    "    file=audio_file,\n",
    "    response_format=\"text\"\n",
    ")\n",
    "\n",
    "print(transcript)"
   ]
  },
  {
   "cell_type": "code",
   "execution_count": 2,
   "id": "ece84db3-24db-48fd-8021-30016c306448",
   "metadata": {},
   "outputs": [
    {
     "name": "stdout",
     "output_type": "stream",
     "text": [
      "1\n",
      "00:00:00,000 --> 00:00:07,760\n",
      "So how would you advise us to prepare and and I guess what would you tell our generation we feel scarred from the crisis?\n",
      "\n",
      "2\n",
      "00:00:07,760 --> 00:00:08,720\n",
      "Yeah\n",
      "\n",
      "3\n",
      "00:00:08,720 --> 00:00:10,720\n",
      "first of all, I think\n",
      "\n",
      "4\n",
      "00:00:12,720 --> 00:00:19,920\n",
      "One of the problems is that the experience that you had as the last experience is the one that's going to stick in your mind\n",
      "\n",
      "5\n",
      "00:00:19,920 --> 00:00:27,740\n",
      "And probably will not be the one that's going to get you so that the next experience will be very very different\n",
      "\n",
      "6\n",
      "00:00:28,139 --> 00:00:33,700\n",
      "I know my my parents went through the Great Depression and then they missed out on the boom\n",
      "\n",
      "7\n",
      "00:00:34,060 --> 00:00:36,700\n",
      "Because then they're always thinking about that\n",
      "\n",
      "8\n",
      "00:00:36,700 --> 00:00:42,459\n",
      "And so I think I think that what they need to do is see all of those crises\n",
      "\n",
      "9\n",
      "00:00:42,459 --> 00:00:47,340\n",
      "That's why you can see inflationary ones and see all of those and once you get that perspective\n",
      "\n",
      "10\n",
      "00:00:47,340 --> 00:00:51,340\n",
      "I would say three things to your generation. Okay, three recommendations\n",
      "\n",
      "11\n",
      "00:00:51,939 --> 00:01:00,139\n",
      "The first recommendation is to is to think about your savings and how much money do you have for savings and the best way to\n",
      "\n",
      "12\n",
      "00:01:00,139 --> 00:01:07,059\n",
      "Think about that is to think how much money do I spend each month and how much money do I have saved?\n",
      "\n",
      "13\n",
      "00:01:07,459 --> 00:01:14,860\n",
      "so that I can how many months am I going to be okay without that and to value savings right and\n",
      "\n",
      "14\n",
      "00:01:15,699 --> 00:01:21,580\n",
      "Calculate it because savings in that is freedom and security and think about what that is\n",
      "\n",
      "15\n",
      "00:01:21,580 --> 00:01:26,860\n",
      "So that's that's the first what how much do I have for that? The second thing is how do I?\n",
      "\n",
      "16\n",
      "00:01:27,459 --> 00:01:33,180\n",
      "Save well, what should I put my saving in and when thinking about what you should put your saving in?\n",
      "\n",
      "17\n",
      "00:01:33,779 --> 00:01:39,059\n",
      "Realize that the least risk investment that you think from volatility is the least risk investment\n",
      "\n",
      "18\n",
      "00:01:39,779 --> 00:01:44,220\n",
      "which is cash is the worst investment over a period of time and\n",
      "\n",
      "19\n",
      "00:01:44,860 --> 00:01:51,019\n",
      "You could judge that by judging the rate of inflation in relationship to the after-tax income you're going to earn\n",
      "\n",
      "20\n",
      "00:01:51,300 --> 00:01:52,980\n",
      "So if you have an inflation rate\n",
      "\n",
      "21\n",
      "00:01:52,980 --> 00:01:59,620\n",
      "That's two or three percent and you're earning one percent and you have to pay taxes on that one percent or the one or two\n",
      "\n",
      "22\n",
      "00:01:59,620 --> 00:02:02,419\n",
      "Percent that you're going to get you're going to get taxed\n",
      "\n",
      "23\n",
      "00:02:02,739 --> 00:02:10,100\n",
      "Essentially at two percent a year and that's going to be a problem. So you have to move into assets that are\n",
      "\n",
      "24\n",
      "00:02:11,100 --> 00:02:14,660\n",
      "Other assets that are going to do better over a period of time and\n",
      "\n",
      "25\n",
      "00:02:15,220 --> 00:02:20,500\n",
      "When you do that, the most important thing I can convey to you is to diversify\n",
      "\n",
      "26\n",
      "00:02:20,500 --> 00:02:26,419\n",
      "Well, because I can guarantee you that one of those assets and you won't be able to pick the right one\n",
      "\n",
      "27\n",
      "00:02:26,619 --> 00:02:32,419\n",
      "Will be disastrous in your lifetime that you will lose half of that savings if you're in the wrong one\n",
      "\n",
      "28\n",
      "00:02:32,419 --> 00:02:37,860\n",
      "And you won't know what the right one is and so pick different countries pick different\n",
      "\n",
      "29\n",
      "00:02:38,740 --> 00:02:44,220\n",
      "Asset classes and I could probably take too long explaining how you might do that\n",
      "\n",
      "30\n",
      "00:02:44,380 --> 00:02:47,740\n",
      "But but so that would be the the second thing to learn\n",
      "\n",
      "31\n",
      "00:02:48,300 --> 00:02:54,100\n",
      "First thing is think about how to save be cautious about debt when you're thinking about debt\n",
      "\n",
      "32\n",
      "00:02:54,539 --> 00:03:00,059\n",
      "Think about is that debt going to help my savings or is it going to produce an income?\n",
      "\n",
      "33\n",
      "00:03:00,460 --> 00:03:06,479\n",
      "Sometimes debt like buying a house or buying an apartment or buying an asset it produces forced savings\n",
      "\n",
      "34\n",
      "00:03:07,000 --> 00:03:14,600\n",
      "Forced savings is a good thing or if you're taking on debt and you're thinking am I going to have that debt in an asset?\n",
      "\n",
      "35\n",
      "00:03:14,759 --> 00:03:21,039\n",
      "That asset better produce more income than the asset than the cost of your debt\n",
      "\n",
      "36\n",
      "00:03:21,039 --> 00:03:27,679\n",
      "If you're using debt for consumption, that's not a good thing to do. Okay, you're giving up that that safety\n",
      "\n",
      "37\n",
      "00:03:27,720 --> 00:03:30,119\n",
      "So I want so number one is\n",
      "\n",
      "38\n",
      "00:03:30,440 --> 00:03:35,479\n",
      "Think about how much you save and think about whether that should be it and what how you borrow number two\n",
      "\n",
      "39\n",
      "00:03:35,919 --> 00:03:40,559\n",
      "Make sure that you think about the diversification of that not in cash\n",
      "\n",
      "40\n",
      "00:03:41,240 --> 00:03:43,240\n",
      "and number three\n",
      "\n",
      "41\n",
      "00:03:43,360 --> 00:03:47,800\n",
      "Do the opposite of what your instincts are if you're going to play the game?\n",
      "\n",
      "42\n",
      "00:03:48,839 --> 00:03:55,199\n",
      "It has to be the opposite of what your instincts in the crowd says because the market reflects the crowd. So\n",
      "\n",
      "43\n",
      "00:03:55,800 --> 00:04:01,279\n",
      "You want to buy when no one wants to buy and you want to sell when no one wants to sell, right?\n",
      "\n",
      "44\n",
      "00:04:01,520 --> 00:04:04,119\n",
      "So and that's emotionally difficult\n",
      "\n",
      "45\n",
      "00:04:04,679 --> 00:04:07,039\n",
      "And probably you're not going to play that game\n",
      "\n",
      "46\n",
      "00:04:07,039 --> 00:04:10,360\n",
      "Well, because it takes a lot of resources to play the good\n",
      "\n",
      "47\n",
      "00:04:10,360 --> 00:04:14,520\n",
      "I'm we spend hundreds of millions of dollars each year to try to play that game\n",
      "\n",
      "48\n",
      "00:04:14,520 --> 00:04:19,679\n",
      "Well, and it's a tough game to play. Well, so I would caution you about the market timing game\n",
      "\n",
      "49\n",
      "00:04:19,880 --> 00:04:26,399\n",
      "But I would say that if you're going to do it do it in the ways that are uncomfortable because they're opposite your instincts\n",
      "\n",
      "\n",
      "\n"
     ]
    }
   ],
   "source": [
    "import openai\n",
    "\n",
    "file = open(\"RayDalio.mp3\", \"rb\")\n",
    "#SRT形式で出力する場合\n",
    "transcript = openai.audio.transcriptions.create(\n",
    "    model=\"whisper-1\",\n",
    "    file=file,\n",
    "    response_format=\"srt\"\n",
    ")\n",
    "\n",
    "print(transcript)"
   ]
  },
  {
   "cell_type": "code",
   "execution_count": 3,
   "id": "af1d133d-f5b9-461d-bd5e-cdb5178aaae9",
   "metadata": {},
   "outputs": [
    {
     "name": "stdout",
     "output_type": "stream",
     "text": [
      "- 最初に、前回の経験が記憶に残り、次回の経験が異なることを理解すべき\n",
      "- 一つ目の提案は、節約と貯蓄を考えること、リスクの少ない投資を選択し、資産を分散させること\n",
      "- 二つ目の提案は、借金に慎重であること、借金は資産の収入を生み出すかどうかを考える必要がある\n"
     ]
    }
   ],
   "source": [
    "import openai\n",
    "from openai import OpenAI\n",
    "\n",
    "#OpenAIのインスタンスを作る場\n",
    "client = OpenAI()\n",
    "\n",
    "audio_file= open(\"RayDalio.mp3\", \"rb\")\n",
    "#出力をテキストで\n",
    "transcript = client.audio.transcriptions.create(\n",
    "    model=\"whisper-1\",\n",
    "    file=audio_file,\n",
    "    response_format=\"text\"\n",
    ")\n",
    "\n",
    "#文字起こし結果をGPTに渡して要約\n",
    "summary = openai.chat.completions.create(\n",
    "    model=\"gpt-3.5-turbo\",\n",
    "    messages=[\n",
    "        {\n",
    "            \"role\":\"system\",\n",
    "            \"content\":f\"以下の文章を日本語で3行の箇条書きに要約してください:\\n{transcript}\"\n",
    "        }\n",
    "    ]\n",
    ")\n",
    "\n",
    "#表示\n",
    "print(summary.choices[0].message.content)"
   ]
  },
  {
   "cell_type": "code",
   "execution_count": 5,
   "id": "491f323c-5575-4b13-b510-1dabceda85d6",
   "metadata": {},
   "outputs": [
    {
     "name": "stdout",
     "output_type": "stream",
     "text": [
      "では、私たちにどのような心構えをアドバイスしてくれますか？また、私たちの世代がこの危機で傷ついたと感じているとしたら、どのようなことを伝えてくれますか？まず第一に、私の両親は大恐慌を経験し、その後好景気に乗り遅れた。最初の提言は、貯蓄について考えることです。貯蓄のためにいくら持っているのか、それを考える最善の方法は、毎月いくら使っていて、いくら貯蓄があるのかを考えることです。次に、どうすればいいのか？何に貯蓄をすべきかを考えるとき、何に貯蓄をすべきかを考えるとき、何に貯蓄をすべきかを考えるとき、何に貯蓄をすべきかを考えるとき、何に貯蓄をすべきかを考えるとき、何に貯蓄をすべきかを考えるとき。つまり、インフレ率が2～3パーセントで、1パーセントの収入を得ている場合、その1パーセントまたは1～2パーセントの収入に対して税金を支払わなければならない。だから、一定期間にわたってより良い結果をもたらす他の資産に移行しなければならない、もし間違った資産に手を出したら、一生のうちに貯蓄の半分を失うような悲惨なことになる。その方法を説明すると長くなりすぎるので、2番目に学ぶべきことは、貯蓄の方法を考えることだ。家を買ったり、マンションを買ったり、資産を買ったりするような借金は、強制的な貯蓄を生むことがある。もし借金を消費のために使っているなら、それは良くないことだ。そのため、1つ目は貯蓄額を考え、それがそれであるべきかどうかを考えること、2つ目はどのように借り入れるかを考えること、3つ目は現金ではなく分散投資を考えること、4つ目はゲームをするなら直感と反対のことをすることです。市場が群衆を反映するのだから、群衆が言う直感とは正反対でなければならない。誰も買いたがらないときに買いたいし、誰も売りたがらないときに売りたいでしょう？そのゲームをするのは感情的に難しいし、おそらくあなたはそのゲームをするつもりはないでしょう。だから、マーケット・タイミング・ゲームについては注意したい。でも、もしやるなら、自分の直感と正反対の、不快なやり方でやるべきだ。\n",
      "\n"
     ]
    }
   ],
   "source": [
    "import deepl\n",
    "import os\n",
    "\n",
    "API_KEY = os.environ[\"DEEPL_API_KEY\"]\n",
    "\n",
    "text = transcript\n",
    "source_lang = 'EN'\n",
    "target_lang = 'JA'\n",
    "\n",
    "# イニシャライズ\n",
    "translator = deepl.Translator(API_KEY)\n",
    "\n",
    "# 翻訳を実行\n",
    "result = translator.translate_text(text, source_lang=source_lang, target_lang=target_lang)\n",
    "\n",
    "# print すると翻訳後の文章が出力される\n",
    "print(result)"
   ]
  },
  {
   "cell_type": "code",
   "execution_count": 6,
   "id": "b874f642-f345-418e-b52c-fb409503c57b",
   "metadata": {},
   "outputs": [],
   "source": [
    "#テキストファイルに保存\n",
    "import os\n",
    "\n",
    "#Windowsの場合はencoding='utf-8'をパラメータとして渡す。\n",
    "with open(\"レイダリオアドバイス.txt\", 'w', encoding='utf-8') as f:\n",
    "    f.write(result.text)"
   ]
  },
  {
   "cell_type": "code",
   "execution_count": 8,
   "id": "4633a74a-ff9d-4e2c-9939-2696e21a6d4f",
   "metadata": {},
   "outputs": [
    {
     "name": "stdout",
     "output_type": "stream",
     "text": [
      "最初に、貯蓄の重要性を強調し、毎月の支出と貯蓄額を把握することが大切だと述べています。次に、インフレと税金を考慮し、長期的に利益を生む資産に移行する必要性を示唆しています。借金については、資産購入に使うことで強制的な貯蓄が生まれるが、消費のための借金は避けるべきだと言及しています。また、分散投資の重要性を強調し、市場の直感に逆らう行動が必要だとしています。感情的に難しいが、その方法が成功の鍵となると考えています。\n"
     ]
    }
   ],
   "source": [
    "#文字起こし結果をGPTに渡して要約\n",
    "summary = openai.chat.completions.create(\n",
    "    model=\"gpt-4o\",\n",
    "    messages=[\n",
    "        {\n",
    "            \"role\":\"system\",\n",
    "            \"content\":f\"以下の文章を200文字程度に要約してください:\\n{result}\"\n",
    "        }\n",
    "    ]\n",
    ")\n",
    "\n",
    "#表示\n",
    "print(summary.choices[0].message.content)"
   ]
  },
  {
   "cell_type": "markdown",
   "id": "e1dfc126-1969-4256-ad1a-e1cfee351a8d",
   "metadata": {},
   "source": [
    "## Google翻訳\n",
    "\n",
    "### 以下の処理は非推奨Wisperと衝突するためDeepLのAPIを使う"
   ]
  },
  {
   "cell_type": "code",
   "execution_count": 21,
   "id": "6fb353db-7c3b-4109-badd-6f90a2b26294",
   "metadata": {},
   "outputs": [
    {
     "name": "stdout",
     "output_type": "stream",
     "text": [
      "Requirement already satisfied: googletrans==4.0.0-rc1 in c:\\users\\hartm\\anaconda3\\lib\\site-packages (4.0.0rc1)\n",
      "Requirement already satisfied: httpx==0.13.3 in c:\\users\\hartm\\anaconda3\\lib\\site-packages (from googletrans==4.0.0-rc1) (0.13.3)\n",
      "Requirement already satisfied: certifi in c:\\users\\hartm\\anaconda3\\lib\\site-packages (from httpx==0.13.3->googletrans==4.0.0-rc1) (2024.2.2)\n",
      "Requirement already satisfied: hstspreload in c:\\users\\hartm\\anaconda3\\lib\\site-packages (from httpx==0.13.3->googletrans==4.0.0-rc1) (2024.5.1)\n",
      "Requirement already satisfied: sniffio in c:\\users\\hartm\\anaconda3\\lib\\site-packages (from httpx==0.13.3->googletrans==4.0.0-rc1) (1.3.0)\n",
      "Requirement already satisfied: chardet==3.* in c:\\users\\hartm\\anaconda3\\lib\\site-packages (from httpx==0.13.3->googletrans==4.0.0-rc1) (3.0.4)\n",
      "Requirement already satisfied: idna==2.* in c:\\users\\hartm\\anaconda3\\lib\\site-packages (from httpx==0.13.3->googletrans==4.0.0-rc1) (2.10)\n",
      "Requirement already satisfied: rfc3986<2,>=1.3 in c:\\users\\hartm\\anaconda3\\lib\\site-packages (from httpx==0.13.3->googletrans==4.0.0-rc1) (1.5.0)\n",
      "Requirement already satisfied: httpcore==0.9.* in c:\\users\\hartm\\anaconda3\\lib\\site-packages (from httpx==0.13.3->googletrans==4.0.0-rc1) (0.9.1)\n",
      "Requirement already satisfied: h11<0.10,>=0.8 in c:\\users\\hartm\\anaconda3\\lib\\site-packages (from httpcore==0.9.*->httpx==0.13.3->googletrans==4.0.0-rc1) (0.9.0)\n",
      "Requirement already satisfied: h2==3.* in c:\\users\\hartm\\anaconda3\\lib\\site-packages (from httpcore==0.9.*->httpx==0.13.3->googletrans==4.0.0-rc1) (3.2.0)\n",
      "Requirement already satisfied: hyperframe<6,>=5.2.0 in c:\\users\\hartm\\anaconda3\\lib\\site-packages (from h2==3.*->httpcore==0.9.*->httpx==0.13.3->googletrans==4.0.0-rc1) (5.2.0)\n",
      "Requirement already satisfied: hpack<4,>=3.0 in c:\\users\\hartm\\anaconda3\\lib\\site-packages (from h2==3.*->httpcore==0.9.*->httpx==0.13.3->googletrans==4.0.0-rc1) (3.0.0)\n"
     ]
    }
   ],
   "source": [
    "#翻訳パッケージインストール\n",
    "!pip install googletrans==4.0.0-rc1"
   ]
  },
  {
   "cell_type": "code",
   "execution_count": 22,
   "id": "529091d1-4698-4259-8f09-e9cf7dc7325c",
   "metadata": {},
   "outputs": [
    {
     "name": "stdout",
     "output_type": "stream",
     "text": [
      "Name: googletrans\n",
      "Version: 4.0.0rc1\n",
      "Summary: Free Google Translate API for Python. Translates totally free of charge.\n",
      "Home-page: https://github.com/ssut/py-googletrans\n",
      "Author: SuHun Han\n",
      "Author-email: ssut@ssut.me\n",
      "License: MIT\n",
      "Location: C:\\Users\\hartm\\anaconda3\\Lib\\site-packages\n",
      "Requires: httpx\n",
      "Required-by: \n"
     ]
    }
   ],
   "source": [
    "!pip show googletrans"
   ]
  },
  {
   "cell_type": "code",
   "execution_count": null,
   "id": "b7b6922a-350c-415e-81dc-d44ec844987c",
   "metadata": {},
   "outputs": [],
   "source": [
    "from googletrans import Translator\n",
    "#翻訳オブジェクト生成\n",
    "tr = Translator()\n",
    "#日本語→英語　に翻訳\n",
    "result = tr.translate(\"hello\", src='en', dest='ja').text\n",
    "print(result)"
   ]
  },
  {
   "cell_type": "code",
   "execution_count": null,
   "id": "ef7f0e1e-0bbb-44d6-803c-5f3cefe61026",
   "metadata": {},
   "outputs": [],
   "source": []
  }
 ],
 "metadata": {
  "kernelspec": {
   "display_name": "Python 3 (ipykernel)",
   "language": "python",
   "name": "python3"
  },
  "language_info": {
   "codemirror_mode": {
    "name": "ipython",
    "version": 3
   },
   "file_extension": ".py",
   "mimetype": "text/x-python",
   "name": "python",
   "nbconvert_exporter": "python",
   "pygments_lexer": "ipython3",
   "version": "3.11.7"
  }
 },
 "nbformat": 4,
 "nbformat_minor": 5
}
