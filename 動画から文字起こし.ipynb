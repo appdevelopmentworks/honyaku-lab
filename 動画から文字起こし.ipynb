{
 "cells": [
  {
   "cell_type": "markdown",
   "id": "7081223f-8bba-429d-a917-97de627903e9",
   "metadata": {},
   "source": [
    "# 動画から文字起こし"
   ]
  },
  {
   "cell_type": "markdown",
   "id": "f45fca00-d872-4b47-b13a-77cb92f59454",
   "metadata": {},
   "source": [
    "1.Youtubeから文字起こししたい動画を選択\n",
    "\n",
    "2.以下のページで音声ファイルのみ抽出\n",
    "\n",
    "https://ytmp3.cc/3kRz/"
   ]
  },
  {
   "cell_type": "code",
   "execution_count": 11,
   "id": "fc673721-34be-4753-8aff-d8dcea6c8c24",
   "metadata": {},
   "outputs": [
    {
     "name": "stdout",
     "output_type": "stream",
     "text": [
      "지금 내� This is tribute 이 히트곡은 이 곡을 시작할 때 곡이 말이 아니에요 이 곡은 굳이 다시 작곡하는 법을 다 보지를 않겠어요 누가 봐도 Chris Brown Martinland 이 앨범에 들으시죠 내일 내게 열리는 건 Big Big Stage So that is who I am Look at me, look at me, look at me now 어제랑 또 다른 짜릿한 나 두려워 모든 게 설레게 I'm sky high, oh my god high 사소한 건 다 어둑해져 Look at me now, look at me now I'm on fire Way 넌 그냥 믿으면 돼 I'm on my way 보이는 그대로야 너와 나는 가야 Dreams come true 제일 좋은 건 이 날을 Deserve you 머물고 간 어딘가의 낯선 View I'll be far away That's my life Please, 아름다운 갤럭시 Be your ride, girl 장르로는 Fantasy 내일 내게 열리는 건 Big Big Stage So that is who I am 오늘 깊은 밤 길을 잃어도 차라리 날아올라 그럼 내가 지나가는 대로 길이거든 1, 2, 3 1, 2, 3 1, 2, 3 Fly up I hope you'll be so much Dreams come true 제일 좋은 건 이 날을 Deserve you 머물고 간 어딘가의 낯선 View I'll be far away That's my life Please, 아름다운 갤럭시 Be your ride, girl 장르로는 Fantasy 내일 내게 열리는 건 Big Big Stage So that is who I am\n",
      "\n"
     ]
    }
   ],
   "source": [
    "from openai import OpenAI\n",
    "\n",
    "#OpenAIのインスタンスを作る場合\n",
    "client = OpenAI()\n",
    "\n",
    "audio_file= open(\"IVE-IAM.mp3\", \"rb\")\n",
    "#出力をテキストで\n",
    "transcript = client.audio.transcriptions.create(\n",
    "    model=\"whisper-1\",\n",
    "    file=audio_file,\n",
    "    response_format=\"text\"\n",
    ")\n",
    "\n",
    "print(transcript)"
   ]
  },
  {
   "cell_type": "code",
   "execution_count": 5,
   "id": "ece84db3-24db-48fd-8021-30016c306448",
   "metadata": {},
   "outputs": [
    {
     "name": "stdout",
     "output_type": "stream",
     "text": [
      "1\n",
      "00:00:00,000 --> 00:00:09,360\n",
      "아그사나\n",
      "\n",
      "2\n",
      "00:00:09,360 --> 00:00:19,440\n",
      "솔로였어요\n",
      "\n",
      "3\n",
      "00:00:19,440 --> 00:00:24,480\n",
      "추억 참 aşk\n",
      "\n",
      "4\n",
      "00:00:24,480 --> 00:00:28,320\n",
      "얘들아\n",
      "\n",
      "5\n",
      "00:00:28,320 --> 00:00:32,959\n",
      "I'm on my way\n",
      "\n",
      "6\n",
      "00:00:32,959 --> 00:00:36,880\n",
      "보이는 그대로야\n",
      "\n",
      "7\n",
      "00:00:36,880 --> 00:00:40,240\n",
      "머문 어느가의 Dreams come true\n",
      "\n",
      "8\n",
      "00:00:40,240 --> 00:00:44,240\n",
      "제일 좋은 어느 날이 There's a view\n",
      "\n",
      "9\n",
      "00:00:44,240 --> 00:00:48,639\n",
      "머물고픈 어딘가의 낯선 View\n",
      "\n",
      "10\n",
      "00:00:48,639 --> 00:00:51,599\n",
      "I'll be far away\n",
      "\n",
      "11\n",
      "00:00:51,599 --> 00:00:53,119\n",
      "That's my life\n",
      "\n",
      "12\n",
      "00:00:53,119 --> 00:00:56,000\n",
      "This 아름다운 Galaxy\n",
      "\n",
      "13\n",
      "00:00:56,000 --> 00:00:57,520\n",
      "Be a writer\n",
      "\n",
      "14\n",
      "00:00:57,520 --> 00:01:00,000\n",
      "장르로는 Fantasy\n",
      "\n",
      "15\n",
      "00:01:00,000 --> 00:01:04,239\n",
      "내일 내게 열리는 건 Big big stage\n",
      "\n",
      "16\n",
      "00:01:04,239 --> 00:01:08,239\n",
      "So that is who I am\n",
      "\n",
      "17\n",
      "00:01:08,239 --> 00:01:10,239\n",
      "Look at me, look at me, look at me now\n",
      "\n",
      "18\n",
      "00:01:10,239 --> 00:01:12,239\n",
      "어제랑 또 다른 짜릿한 나\n",
      "\n",
      "19\n",
      "00:01:12,239 --> 00:01:14,000\n",
      "두려운 모든 게 설레게\n",
      "\n",
      "20\n",
      "00:01:14,000 --> 00:01:16,320\n",
      "I'm sky high, oh my god high\n",
      "\n",
      "21\n",
      "00:01:16,320 --> 00:01:20,080\n",
      "사소한 건 다 아득해져\n",
      "\n",
      "22\n",
      "00:01:20,080 --> 00:01:22,080\n",
      "Look at me now, look at me now\n",
      "\n",
      "23\n",
      "00:01:22,080 --> 00:01:27,919\n",
      "I'm on my way\n",
      "\n",
      "24\n",
      "00:01:27,919 --> 00:01:30,879\n",
      "넌 그냥 믿으면 돼\n",
      "\n",
      "25\n",
      "00:01:30,879 --> 00:01:35,839\n",
      "I'm on my way\n",
      "\n",
      "26\n",
      "00:01:35,839 --> 00:01:39,839\n",
      "보이는 그대로야\n",
      "\n",
      "27\n",
      "00:01:39,839 --> 00:01:43,199\n",
      "머문 어느가의 Dreams come true\n",
      "\n",
      "28\n",
      "00:01:43,199 --> 00:01:47,199\n",
      "제일 좋은 어느 날이 There's a view\n",
      "\n",
      "29\n",
      "00:01:47,199 --> 00:01:51,599\n",
      "머물고픈 어딘가의 낯선 View\n",
      "\n",
      "30\n",
      "00:01:51,599 --> 00:01:54,480\n",
      "I'll be far away\n",
      "\n",
      "31\n",
      "00:01:54,480 --> 00:01:56,000\n",
      "That's my life\n",
      "\n",
      "32\n",
      "00:01:56,000 --> 00:01:58,879\n",
      "This 아름다운 Galaxy\n",
      "\n",
      "33\n",
      "00:01:58,879 --> 00:02:00,400\n",
      "Be a writer\n",
      "\n",
      "34\n",
      "00:02:00,400 --> 00:02:02,879\n",
      "장르로는 Fantasy\n",
      "\n",
      "35\n",
      "00:02:02,879 --> 00:02:07,120\n",
      "내일 내게 열리는 건 Big big stage\n",
      "\n",
      "36\n",
      "00:02:07,120 --> 00:02:10,639\n",
      "So that is who I am\n",
      "\n",
      "37\n",
      "00:02:10,639 --> 00:02:14,639\n",
      "오늘 깊은 밤\n",
      "\n",
      "38\n",
      "00:02:14,639 --> 00:02:18,320\n",
      "길을 잃어도\n",
      "\n",
      "39\n",
      "00:02:18,320 --> 00:02:20,080\n",
      "차라리 날아올라\n",
      "\n",
      "40\n",
      "00:02:20,080 --> 00:02:23,039\n",
      "그럼 내가 지나가는 대로 길이거든\n",
      "\n",
      "41\n",
      "00:02:23,039 --> 00:02:28,960\n",
      "1, 2, 3, 1, 2, 3, 1, 2, 3, fire\n",
      "\n",
      "42\n",
      "00:02:28,960 --> 00:02:32,479\n",
      "I hope you'll be so my dreams come true\n",
      "\n",
      "43\n",
      "00:02:32,479 --> 00:02:36,320\n",
      "제일 좋은 어느 날이 There's a view\n",
      "\n",
      "44\n",
      "00:02:36,320 --> 00:02:40,720\n",
      "머물고픈 어딘가의 낯선 View\n",
      "\n",
      "45\n",
      "00:02:40,720 --> 00:02:43,759\n",
      "I'll be far away\n",
      "\n",
      "46\n",
      "00:02:43,759 --> 00:02:45,279\n",
      "That's my life\n",
      "\n",
      "47\n",
      "00:02:45,279 --> 00:02:48,080\n",
      "This 아름다운 Galaxy\n",
      "\n",
      "48\n",
      "00:02:48,080 --> 00:02:49,600\n",
      "Be a writer\n",
      "\n",
      "49\n",
      "00:02:49,600 --> 00:02:52,080\n",
      "장르로는 Fantasy\n",
      "\n",
      "50\n",
      "00:02:52,080 --> 00:02:56,320\n",
      "내일 내게 열리는 건 Big big stage\n",
      "\n",
      "51\n",
      "00:02:56,320 --> 00:02:59,520\n",
      "So that is who I am\n",
      "\n",
      "\n",
      "\n"
     ]
    }
   ],
   "source": [
    "import openai\n",
    "\n",
    "file = open(\"IVE-IAM.mp3\", \"rb\")\n",
    "#SRT形式で出力する場合\n",
    "transcript = openai.audio.transcriptions.create(\n",
    "    model=\"whisper-1\",\n",
    "    file=file,\n",
    "    response_format=\"srt\"\n",
    ")\n",
    "\n",
    "print(transcript)"
   ]
  },
  {
   "cell_type": "code",
   "execution_count": 2,
   "id": "af1d133d-f5b9-461d-bd5e-cdb5178aaae9",
   "metadata": {},
   "outputs": [
    {
     "name": "stdout",
     "output_type": "stream",
     "text": [
      "- Advice to prepare for crises and address post-crisis anxiety\n",
      "- Emphasize the importance of savings, cautious debt management, and diversification\n",
      "- Investment tips include not relying on cash, focusing on producing income with debt, and going against market instincts\n"
     ]
    }
   ],
   "source": [
    "import openai\n",
    "from openai import OpenAI\n",
    "\n",
    "#OpenAIのインスタンスを作る場\n",
    "client = OpenAI()\n",
    "\n",
    "audio_file= open(\"RayDalio.mp3\", \"rb\")\n",
    "#出力をテキストで\n",
    "transcript = client.audio.transcriptions.create(\n",
    "    model=\"whisper-1\",\n",
    "    file=audio_file,\n",
    "    response_format=\"text\"\n",
    ")\n",
    "\n",
    "#文字起こし結果をGPTに渡して要約\n",
    "summary = openai.chat.completions.create(\n",
    "    model=\"gpt-3.5-turbo\",\n",
    "    messages=[\n",
    "        {\n",
    "            \"role\":\"system\",\n",
    "            \"content\":f\"以下の文章を3行の箇条書きに要約してください:\\n{transcript}\"\n",
    "        }\n",
    "    ]\n",
    ")\n",
    "\n",
    "#表示\n",
    "print(summary.choices[0].message.content)"
   ]
  },
  {
   "cell_type": "code",
   "execution_count": 3,
   "id": "aeec8a38-483f-4bf2-8a9c-68225b4ae3f8",
   "metadata": {},
   "outputs": [
    {
     "data": {
      "text/plain": [
       "\"So how would you advise us to prepare and and I guess what would you tell our generation we feel scarred from the crisis? Yeah first of all, I think One of the problems is that the experience that you had as the last experience is the one that's going to stick in your mind And probably will not be the one that's going to get you so that the next experience will be very very different I know my my parents went through the Great Depression and then they missed out on the boom Because then they're always thinking about that And so I think I think that what they need to do is see all of those crises That's why you can see inflationary ones and see all of those and once you get that perspective I would say three things to your generation. Okay, three recommendations The first recommendation is to is to think about your savings and how much money do you have for savings and the best way to Think about that is to think how much money do I spend each month and how much money do I have saved? so that I can how many months am I going to be okay without that and to value savings right and Calculate it because savings in that is freedom and security and think about what that is So that's that's the first what how much do I have for that? The second thing is how do I? Save well, what should I put my saving in and when thinking about what you should put your saving in? Realize that the least risk investment that you think from volatility is the least risk investment which is cash is the worst investment over a period of time and You could judge that by judging the rate of inflation in relationship to the after-tax income you're going to earn So if you have an inflation rate That's two or three percent and you're earning one percent and you have to pay taxes on that one percent or the one or two Percent that you're going to get you're going to get taxed Essentially at two percent a year and that's going to be a problem. So you have to move into assets that are Other assets that are going to do better over a period of time and When you do that, the most important thing I can convey to you is to diversify Well, because I can guarantee you that one of those assets and you won't be able to pick the right one Will be disastrous in your lifetime that you will lose half of that savings if you're in the wrong one And you won't know what the right one is and so pick different countries pick different Asset classes and I could probably take too long explaining how you might do that But but so that would be the the second thing to learn First thing is think about how to save be cautious about debt when you're thinking about debt Think about is that debt going to help my savings or is it going to produce an income? Sometimes debt like buying a house or buying an apartment or buying an asset it produces forced savings Forced savings is a good thing or if you're taking on debt and you're thinking am I going to have that debt in an asset? That asset better produce more income than the asset than the cost of your debt If you're using debt for consumption, that's not a good thing to do. Okay, you're giving up that that safety So I want so number one is Think about how much you save and think about whether that should be it and what how you borrow number two Make sure that you think about the diversification of that not in cash and number three Do the opposite of what your instincts are if you're going to play the game? It has to be the opposite of what your instincts in the crowd says because the market reflects the crowd. So You want to buy when no one wants to buy and you want to sell when no one wants to sell, right? So and that's emotionally difficult And probably you're not going to play that game Well, because it takes a lot of resources to play the good I'm we spend hundreds of millions of dollars each year to try to play that game Well, and it's a tough game to play. Well, so I would caution you about the market timing game But I would say that if you're going to do it do it in the ways that are uncomfortable because they're opposite your instincts\\n\""
      ]
     },
     "execution_count": 3,
     "metadata": {},
     "output_type": "execute_result"
    }
   ],
   "source": [
    "transcript"
   ]
  },
  {
   "cell_type": "code",
   "execution_count": 4,
   "id": "491f323c-5575-4b13-b510-1dabceda85d6",
   "metadata": {},
   "outputs": [
    {
     "name": "stdout",
     "output_type": "stream",
     "text": [
      "では、私たちにどのような心構えをアドバイスしてくれますか？また、私たちの世代がこの危機で傷ついたと感じているとしたら、どのようなことを伝えてくれますか？まず第一に、私の両親は大恐慌を経験し、その後好景気に乗り遅れた。最初の提言は、貯蓄について考えることです。貯蓄のためにいくら持っているのか、それを考える最善の方法は、毎月いくら使っていて、いくら貯蓄があるのかを考えることです。次に、どうすればいいのか？何に貯蓄をすべきかを考えるとき、何に貯蓄をすべきかを考えるとき、何に貯蓄をすべきかを考えるとき、何に貯蓄をすべきかを考えるとき、何に貯蓄をすべきかを考えるとき、何に貯蓄をすべきかを考えるとき。つまり、インフレ率が2～3パーセントで、1パーセントの収入を得ている場合、その1パーセントまたは1～2パーセントの収入に対して税金を支払わなければならない。だから、一定期間にわたってより良い結果をもたらす他の資産に移行しなければならない、もし間違った資産に手を出したら、一生のうちに貯蓄の半分を失うような悲惨なことになる。その方法を説明すると長くなりすぎるので、2番目に学ぶべきことは、貯蓄の方法を考えることだ。家を買ったり、マンションを買ったり、資産を買ったりするような借金は、強制的な貯蓄を生むことがある。もし借金を消費のために使っているなら、それは良くないことだ。そのため、1つ目は貯蓄額を考え、それがそれであるべきかどうかを考えること、2つ目はどのように借り入れるかを考えること、3つ目は現金ではなく分散投資を考えること、4つ目はゲームをするなら直感と反対のことをすることです。市場が群衆を反映するのだから、群衆が言う直感とは正反対でなければならない。誰も買いたがらないときに買いたいし、誰も売りたがらないときに売りたいでしょう？そのゲームをするのは感情的に難しいし、おそらくあなたはそのゲームをするつもりはないでしょう。だから、マーケット・タイミング・ゲームについては注意したい。でも、もしやるなら、自分の直感と正反対の、不快なやり方でやるべきだ。\n",
      "\n"
     ]
    }
   ],
   "source": [
    "import deepl\n",
    "import os\n",
    "\n",
    "API_KEY = os.environ[\"DEEPL_API_KEY\"]\n",
    "\n",
    "text = transcript\n",
    "source_lang = 'EN'\n",
    "target_lang = 'JA'\n",
    "\n",
    "# イニシャライズ\n",
    "translator = deepl.Translator(API_KEY)\n",
    "\n",
    "# 翻訳を実行\n",
    "result = translator.translate_text(text, source_lang=source_lang, target_lang=target_lang)\n",
    "\n",
    "# print すると翻訳後の文章が出力される\n",
    "print(result)"
   ]
  },
  {
   "cell_type": "code",
   "execution_count": 26,
   "id": "b874f642-f345-418e-b52c-fb409503c57b",
   "metadata": {},
   "outputs": [],
   "source": [
    "#テキストファイルに保存\n",
    "import os\n",
    "\n",
    "#Windowsの場合はencoding='utf-8'をパラメータとして渡す。\n",
    "with open(\"レイダリオアドバイス.txt\", 'w', encoding='utf-8') as f:\n",
    "    f.write(result.text)"
   ]
  },
  {
   "cell_type": "markdown",
   "id": "e1dfc126-1969-4256-ad1a-e1cfee351a8d",
   "metadata": {},
   "source": [
    "## Google翻訳"
   ]
  },
  {
   "cell_type": "code",
   "execution_count": 21,
   "id": "6fb353db-7c3b-4109-badd-6f90a2b26294",
   "metadata": {},
   "outputs": [
    {
     "name": "stdout",
     "output_type": "stream",
     "text": [
      "Requirement already satisfied: googletrans==4.0.0-rc1 in c:\\users\\hartm\\anaconda3\\lib\\site-packages (4.0.0rc1)\n",
      "Requirement already satisfied: httpx==0.13.3 in c:\\users\\hartm\\anaconda3\\lib\\site-packages (from googletrans==4.0.0-rc1) (0.13.3)\n",
      "Requirement already satisfied: certifi in c:\\users\\hartm\\anaconda3\\lib\\site-packages (from httpx==0.13.3->googletrans==4.0.0-rc1) (2024.2.2)\n",
      "Requirement already satisfied: hstspreload in c:\\users\\hartm\\anaconda3\\lib\\site-packages (from httpx==0.13.3->googletrans==4.0.0-rc1) (2024.5.1)\n",
      "Requirement already satisfied: sniffio in c:\\users\\hartm\\anaconda3\\lib\\site-packages (from httpx==0.13.3->googletrans==4.0.0-rc1) (1.3.0)\n",
      "Requirement already satisfied: chardet==3.* in c:\\users\\hartm\\anaconda3\\lib\\site-packages (from httpx==0.13.3->googletrans==4.0.0-rc1) (3.0.4)\n",
      "Requirement already satisfied: idna==2.* in c:\\users\\hartm\\anaconda3\\lib\\site-packages (from httpx==0.13.3->googletrans==4.0.0-rc1) (2.10)\n",
      "Requirement already satisfied: rfc3986<2,>=1.3 in c:\\users\\hartm\\anaconda3\\lib\\site-packages (from httpx==0.13.3->googletrans==4.0.0-rc1) (1.5.0)\n",
      "Requirement already satisfied: httpcore==0.9.* in c:\\users\\hartm\\anaconda3\\lib\\site-packages (from httpx==0.13.3->googletrans==4.0.0-rc1) (0.9.1)\n",
      "Requirement already satisfied: h11<0.10,>=0.8 in c:\\users\\hartm\\anaconda3\\lib\\site-packages (from httpcore==0.9.*->httpx==0.13.3->googletrans==4.0.0-rc1) (0.9.0)\n",
      "Requirement already satisfied: h2==3.* in c:\\users\\hartm\\anaconda3\\lib\\site-packages (from httpcore==0.9.*->httpx==0.13.3->googletrans==4.0.0-rc1) (3.2.0)\n",
      "Requirement already satisfied: hyperframe<6,>=5.2.0 in c:\\users\\hartm\\anaconda3\\lib\\site-packages (from h2==3.*->httpcore==0.9.*->httpx==0.13.3->googletrans==4.0.0-rc1) (5.2.0)\n",
      "Requirement already satisfied: hpack<4,>=3.0 in c:\\users\\hartm\\anaconda3\\lib\\site-packages (from h2==3.*->httpcore==0.9.*->httpx==0.13.3->googletrans==4.0.0-rc1) (3.0.0)\n"
     ]
    }
   ],
   "source": [
    "#翻訳パッケージインストール\n",
    "!pip install googletrans==4.0.0-rc1"
   ]
  },
  {
   "cell_type": "code",
   "execution_count": 22,
   "id": "529091d1-4698-4259-8f09-e9cf7dc7325c",
   "metadata": {},
   "outputs": [
    {
     "name": "stdout",
     "output_type": "stream",
     "text": [
      "Name: googletrans\n",
      "Version: 4.0.0rc1\n",
      "Summary: Free Google Translate API for Python. Translates totally free of charge.\n",
      "Home-page: https://github.com/ssut/py-googletrans\n",
      "Author: SuHun Han\n",
      "Author-email: ssut@ssut.me\n",
      "License: MIT\n",
      "Location: C:\\Users\\hartm\\anaconda3\\Lib\\site-packages\n",
      "Requires: httpx\n",
      "Required-by: \n"
     ]
    }
   ],
   "source": [
    "!pip show googletrans"
   ]
  },
  {
   "cell_type": "code",
   "execution_count": null,
   "id": "b7b6922a-350c-415e-81dc-d44ec844987c",
   "metadata": {},
   "outputs": [],
   "source": [
    "from googletrans import Translator\n",
    "#翻訳オブジェクト生成\n",
    "tr = Translator()\n",
    "#日本語→英語　に翻訳\n",
    "result = tr.translate(\"hello\", src='en', dest='ja').text\n",
    "print(result)"
   ]
  },
  {
   "cell_type": "code",
   "execution_count": null,
   "id": "ef7f0e1e-0bbb-44d6-803c-5f3cefe61026",
   "metadata": {},
   "outputs": [],
   "source": []
  }
 ],
 "metadata": {
  "kernelspec": {
   "display_name": "Python 3 (ipykernel)",
   "language": "python",
   "name": "python3"
  },
  "language_info": {
   "codemirror_mode": {
    "name": "ipython",
    "version": 3
   },
   "file_extension": ".py",
   "mimetype": "text/x-python",
   "name": "python",
   "nbconvert_exporter": "python",
   "pygments_lexer": "ipython3",
   "version": "3.11.7"
  }
 },
 "nbformat": 4,
 "nbformat_minor": 5
}
